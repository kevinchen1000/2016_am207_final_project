{
 "cells": [
  {
   "cell_type": "code",
   "execution_count": 1,
   "metadata": {
    "collapsed": true
   },
   "outputs": [],
   "source": [
    "import objects"
   ]
  },
  {
   "cell_type": "code",
   "execution_count": 2,
   "metadata": {
    "collapsed": true
   },
   "outputs": [],
   "source": [
    "import numpy as np"
   ]
  },
  {
   "cell_type": "code",
   "execution_count": 11,
   "metadata": {
    "collapsed": false
   },
   "outputs": [
    {
     "data": {
      "text/plain": [
       "1"
      ]
     },
     "execution_count": 11,
     "metadata": {},
     "output_type": "execute_result"
    }
   ],
   "source": [
    "np.random.randint(low=0, high=2)"
   ]
  },
  {
   "cell_type": "code",
   "execution_count": 12,
   "metadata": {
    "collapsed": true
   },
   "outputs": [],
   "source": [
    "# np.random.uniform(low=0.1, )"
   ]
  },
  {
   "cell_type": "code",
   "execution_count": 13,
   "metadata": {
    "collapsed": true
   },
   "outputs": [],
   "source": [
    "import numpy as np\n",
    "import objects\n",
    "\n",
    "def input_generator(animator):\n",
    "\t'''\n",
    "\tParameters\n",
    "    ----------\n",
    "    animator : class Animator\n",
    "        the animator object we are working on\n",
    "\n",
    "\n",
    "    Returns\n",
    "    -------\n",
    "    class object_lists\n",
    "    \tcontains several circles and polygons in random positions.\n",
    "    \tTotal sum of all obejcts area is greater than Animator canvas.\n",
    "\t'''\n",
    "\tinput_area = 0.0\n",
    "\tanimator_area = animator.width * animator.height\n",
    "\tcircle_list = []\n",
    "\tpolygon_list = []\n",
    "\t\n",
    "\twhile input_area < animator_area:\n",
    "\t\t# a random [0,1] number whether to make a new circle or a new polygon\n",
    "\t\tis_circle = np.random.randint(low=0, high=2)\n",
    "\n",
    "\t\tif is_circle:\n",
    "\t\t\t# randomly pick radius size\n",
    "\t\t\traidus = np.random.uniform(low=0.1, high=animator.width*1./4.0)\n",
    "\t\t\tcenter = np.random.uniform(low=-animator.width*1./2.+radius, high=animator.width*1./2.-radius)\n",
    "\t\t\tcircle = objects.obj_circle(np.array([center, center], radius))\n",
    "\t\t\tcircle_list.append(circle)\n",
    "\t\t\tinput_area += circle.area\n",
    "\t\telse:\n",
    "\t\t\t# randomly pick either triangle, square\n",
    "\t\t\tnum_vertex = np.random.randint(low=3, high=5)\n",
    "\t\t\tvertex = [(0,0)]\n",
    "\t\t\t\n",
    "\t\t\tif num_vertex == 3: #triangle\n",
    "\t\t\t\t# point 1\n",
    "\t\t\t\tbottom_point = np.random.uniform(low=0.1, high=animator.width*1./2.0)\n",
    "\t\t\t\tvertex.append((0, bottom_point))\n",
    "\t\t\t\t# point 2\n",
    "\t\t\t\ttop_point = np.random.uniform(low=0.1, high=bottom_point)\n",
    "\t\t\t\tvertex.append((top_point, top_point))\n",
    "\t\t\t\t# add (0,0)\n",
    "\t\t\t\tvertex.append((0,0))\n",
    "\t\t\t\t# offset\n",
    "\t\t\t\toffset_x = np.random.uniform(low=(-animator.width+bottom_point)*1./2., high=(animator.width-bottom_point)*1./2.)\n",
    "\t\t\t\toffset_y = np.random.uniform(low=(-animator.width+top_point)*1./2., high=(animator.width-top_point)*1./2.)\n",
    "\n",
    "\t\t\t\ttriangle = objects.obj_polygon(vertex, np.array([offset_x, offset_y]))\n",
    "\t\t\t\tpolygon_list.append(triangle)\n",
    "\n",
    "\t\t\t\tinput_area += triangle.area\n",
    "\n",
    "\t\t\telif num_vertex == 4: #rectangle\n",
    "\t\t\t\t# point 1\n",
    "\t\t\t\tbottom_point = np.random.uniform(low=0.1, high=animator.width*1./2.0)\n",
    "\t\t\t\tvertex.append((0, bottom_point))\n",
    "\t\t\t\t# point 2\n",
    "\t\t\t\ttop_point = np.random.uniform(low=0.1, high=bottom_point)\n",
    "\t\t\t\tvertex.append((0, top_point))\n",
    "\t\t\t\t# point 3\n",
    "\t\t\t\tvertex.append((bottom_point, top_point))\n",
    "\t\t\t\t# add (0,0)\n",
    "\t\t\t\tvertex.append((0,0))\n",
    "\t\t\t\t# offset\n",
    "\t\t\t\toffset_x = np.random.uniform(low=(-animator.width+bottom_point)*1./2., high=(animator.width-bottom_point)*1./2.)\n",
    "\t\t\t\toffset_y = np.random.uniform(low=(-animator.width+top_point)*1./2., high=(animator.width-top_point)*1./2.)\n",
    "\n",
    "\t\t\t\trectangle = objects.obj_polygon(vertex, np.array([offset_x, offset_y]))\n",
    "\t\t\t\tpolygon_list.append(rectangle)\n",
    "\n",
    "\t\t\t\tinput_area += rectangle.area\n",
    "\n",
    "\t# when input area is greater than Animator canvas area\n",
    "\tinput_object = objects.object_lists(circle_list, polygon_list)\n",
    "\treturn input_object\n",
    "\n",
    "\t\t\t\n"
   ]
  },
  {
   "cell_type": "code",
   "execution_count": null,
   "metadata": {
    "collapsed": true
   },
   "outputs": [],
   "source": []
  }
 ],
 "metadata": {
  "kernelspec": {
   "display_name": "Python 2",
   "language": "python",
   "name": "python2"
  },
  "language_info": {
   "codemirror_mode": {
    "name": "ipython",
    "version": 2
   },
   "file_extension": ".py",
   "mimetype": "text/x-python",
   "name": "python",
   "nbconvert_exporter": "python",
   "pygments_lexer": "ipython2",
   "version": "2.7.11"
  }
 },
 "nbformat": 4,
 "nbformat_minor": 0
}
